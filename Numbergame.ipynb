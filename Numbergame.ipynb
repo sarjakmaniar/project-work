{
 "cells": [
  {
   "cell_type": "code",
   "execution_count": 1,
   "metadata": {},
   "outputs": [
    {
     "name": "stdout",
     "output_type": "stream",
     "text": [
      "Enter you name:\n",
      "Sarjak\n",
      "WELCOME SARJAK TO THE GUESS GAME\n",
      "TOTAL NUMBER OF GUESSES YOU HAVE -> 9\n",
      "Guess the number:\n",
      "45\n",
      "You guessed a greater number.Plz input lesser number.\n",
      "\n",
      "Number of guesses left -> 8\n",
      "Guess the number:\n",
      "35\n",
      "You guessed a greater number.Plz input lesser number.\n",
      "\n",
      "Number of guesses left -> 7\n",
      "Guess the number:\n",
      "24\n",
      "You guessed a greater number.Plz input lesser number.\n",
      "\n",
      "Number of guesses left -> 6\n",
      "Guess the number:\n",
      "27\n",
      "You guessed a greater number.Plz input lesser number.\n",
      "\n",
      "Number of guesses left -> 5\n",
      "Guess the number:\n",
      "23\n",
      "You guessed a greater number.Plz input lesser number.\n",
      "\n",
      "Number of guesses left -> 4\n",
      "Guess the number:\n",
      "20\n",
      "You guessed a greater number.Plz input lesser number.\n",
      "\n",
      "Number of guesses left -> 3\n",
      "Guess the number:\n",
      "17\n",
      "You guessed a lesser number.Plz input greater number.\n",
      "\n",
      "Number of guesses left -> 2\n",
      "Guess the number:\n",
      "18\n",
      "You Won!\n",
      "\n",
      "Number of guesses you took to finish -> 8\n"
     ]
    }
   ],
   "source": [
    "# Guess the number game\n",
    "\n",
    "# no of guesses -> 9\n",
    "# print no of guesses left\n",
    "# No of guesses he took to finish\n",
    "# game over\n",
    "\n",
    "# code\n",
    "\n",
    "print(\"Enter you name:\")\n",
    "name = input()\n",
    "name = name.upper()\n",
    "print(\"WELCOME\",name,\"TO THE GUESS GAME\")\n",
    "n = 18\n",
    "number_of_guesses = 1\n",
    "print(\"TOTAL NUMBER OF GUESSES YOU HAVE -> 9\")\n",
    "while(number_of_guesses <= 9):\n",
    "    guess_number = int(input(\"Guess the number:\\n\"))\n",
    "    if guess_number < 18:\n",
    "        print(\"You guessed a lesser number.Plz input greater number.\\n\")\n",
    "    elif guess_number > 18:\n",
    "        print(\"You guessed a greater number.Plz input lesser number.\\n\")\n",
    "    else:\n",
    "        print(\"You Won!\\n\")\n",
    "        print(\"Number of guesses you took to finish ->\", number_of_guesses)\n",
    "        break\n",
    "    print(\"Number of guesses left ->\", 9-number_of_guesses)\n",
    "    number_of_guesses = number_of_guesses + 1\n",
    "if(number_of_guesses > 9):\n",
    "    print(\"Game Over!\")\n",
    "\n"
   ]
  },
  {
   "cell_type": "code",
   "execution_count": null,
   "metadata": {},
   "outputs": [],
   "source": []
  }
 ],
 "metadata": {
  "kernelspec": {
   "display_name": "Python 3",
   "language": "python",
   "name": "python3"
  },
  "language_info": {
   "codemirror_mode": {
    "name": "ipython",
    "version": 3
   },
   "file_extension": ".py",
   "mimetype": "text/x-python",
   "name": "python",
   "nbconvert_exporter": "python",
   "pygments_lexer": "ipython3",
   "version": "3.8.1"
  },
  "toc": {
   "base_numbering": 1,
   "nav_menu": {},
   "number_sections": true,
   "sideBar": true,
   "skip_h1_title": false,
   "title_cell": "Table of Contents",
   "title_sidebar": "Contents",
   "toc_cell": false,
   "toc_position": {},
   "toc_section_display": true,
   "toc_window_display": false
  }
 },
 "nbformat": 4,
 "nbformat_minor": 2
}
